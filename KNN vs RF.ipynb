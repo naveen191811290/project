{
 "cells": [
  {
   "cell_type": "code",
   "execution_count": null,
   "id": "1f8a237b",
   "metadata": {},
   "outputs": [],
   "source": [
    "# %load_ext google.colab.data_table\n",
    "import numpy as np\n",
    "import pandas as pd\n",
    "import matplotlib.pyplot as plt\n",
    "import seaborn as sns"
   ]
  },
  {
   "cell_type": "code",
   "execution_count": null,
   "id": "2b6a29df",
   "metadata": {},
   "outputs": [],
   "source": [
    "#@title Default title text\n",
    "df = pd.read_csv(r'C:\\Users\\91701\\Desktop\\livr prediction/cirrhosis.csv',index_col='ID')\n",
    "df.head()"
   ]
  },
  {
   "cell_type": "code",
   "execution_count": null,
   "id": "78b44d27",
   "metadata": {},
   "outputs": [],
   "source": [
    "df.info()"
   ]
  },
  {
   "cell_type": "code",
   "execution_count": null,
   "id": "95dd7aaf",
   "metadata": {},
   "outputs": [],
   "source": [
    "df.describe()"
   ]
  },
  {
   "cell_type": "code",
   "execution_count": null,
   "id": "1d4080bc",
   "metadata": {},
   "outputs": [],
   "source": [
    "df.isna().sum()"
   ]
  },
  {
   "cell_type": "code",
   "execution_count": null,
   "id": "0b8b9668",
   "metadata": {},
   "outputs": [],
   "source": [
    "# For Numerical Type\n",
    "df.select_dtypes(include=(['int64', 'float64'])).isna().sum()"
   ]
  },
  {
   "cell_type": "code",
   "execution_count": null,
   "id": "edd3afb7",
   "metadata": {},
   "outputs": [],
   "source": [
    "df.select_dtypes(include=(['int64', 'float64'])).isna().sum()\n",
    "df_num_col = df.select_dtypes(include=(['int64', 'float64'])).columns\n",
    "for c in df_num_col:\n",
    "    df[c].fillna(df[c].median(), inplace=True)\n",
    "\n",
    "df.select_dtypes(include=(['int64', 'float64'])).isna().sum()"
   ]
  },
  {
   "cell_type": "code",
   "execution_count": null,
   "id": "1ce318c6",
   "metadata": {},
   "outputs": [],
   "source": [
    "# For Categorical type\n",
    "df.select_dtypes(include=('object')).isna().sum()"
   ]
  },
  {
   "cell_type": "code",
   "execution_count": null,
   "id": "f815b746",
   "metadata": {},
   "outputs": [],
   "source": [
    "df_cat_col = df.select_dtypes(include=('object')).columns\n",
    "for c in df_cat_col:\n",
    "    df[c].fillna(df[c].mode().values[0], inplace=True)\n",
    "    \n",
    "df.select_dtypes(include=('object')).isna().sum()"
   ]
  },
  {
   "cell_type": "code",
   "execution_count": null,
   "id": "d0403603",
   "metadata": {},
   "outputs": [],
   "source": [
    "df['Stage'].value_counts()"
   ]
  },
  {
   "cell_type": "code",
   "execution_count": null,
   "id": "86bed0eb",
   "metadata": {},
   "outputs": [],
   "source": [
    "plt.figure(figsize=(21,5))\n",
    "sns.countplot(y=df['Stage'], palette=\"flare\", alpha=0.8, )\n",
    "sns.despine(top=True, right=True, bottom=True, left=True)\n",
    "plt.tick_params(axis='both', which='both', bottom=False, top=False, left=False)\n",
    "plt.xlabel('')\n",
    "plt.title('Number of Example Per Class')"
   ]
  },
  {
   "cell_type": "code",
   "execution_count": null,
   "id": "9372d180",
   "metadata": {},
   "outputs": [],
   "source": [
    "# Converting Target categories into intigers 1 for Cirrhosis, 0 otherwise\n",
    "df['Stage'] = np.where(df['Stage'] == 4,1,0)"
   ]
  },
  {
   "cell_type": "code",
   "execution_count": null,
   "id": "1a805129",
   "metadata": {},
   "outputs": [],
   "source": [
    "plt.figure(figsize=(21.2,10))\n",
    "\n",
    "plt.subplot(2,3,1)\n",
    "sns.countplot(x=df['Stage'], hue=df['Sex'], palette='Blues', alpha=0.9)\n",
    "sns.despine(top=True, right=True, bottom=True, left=True)\n",
    "plt.tick_params(axis='both', which='both', bottom=False, top=False, left=False)\n",
    "plt.xlabel('')\n",
    "plt.title('Disease Stage Across Gender')\n",
    "\n",
    "plt.subplot(2,3,2)\n",
    "sns.countplot(x=df['Stage'], hue=df['Ascites'], palette='Purples', alpha=0.9)\n",
    "sns.despine(top=True, right=True, bottom=True, left=True)\n",
    "plt.tick_params(axis='both', which='both', bottom=False, top=False, left=False)\n",
    "plt.xlabel('')\n",
    "plt.title('Ascites proportion across Stages')\n",
    "\n",
    "plt.subplot(2,3,3)\n",
    "sns.countplot(x=df['Stage'], hue=df['Drug'], palette='Blues', alpha=0.9)\n",
    "sns.despine(top=True, right=True, bottom=True, left=True)\n",
    "plt.tick_params(axis='both', which='both', bottom=False, top=False, left=False)\n",
    "plt.xlabel('')\n",
    "plt.title('Medications prescribed across Stages');\n",
    "\n",
    "plt.subplot(2,3,4)\n",
    "sns.countplot(x=df['Stage'], hue=df['Hepatomegaly'], palette='Purples', alpha=0.9)\n",
    "sns.despine(top=True, right=True, bottom=True, left=True)\n",
    "plt.tick_params(axis='both', which='both', bottom=False, top=False, left=False)\n",
    "plt.xlabel('')\n",
    "plt.title('Hepatomegaly');\n",
    "\n",
    "plt.subplot(2,3,5)\n",
    "sns.countplot(x=df['Stage'], hue=df['Spiders'], palette='Blues', alpha=0.9)\n",
    "sns.despine(top=True, right=True, bottom=True, left=True)\n",
    "plt.tick_params(axis='both', which='both', bottom=False, top=False, left=False)\n",
    "plt.xlabel('')\n",
    "plt.title('Presence of Spiders across stages');\n",
    "\n",
    "plt.subplot(2,3,6)\n",
    "sns.countplot(x=df['Stage'], hue=df['Edema'], palette='Purples', alpha=0.9)\n",
    "sns.despine(top=True, right=True, bottom=True, left=True)\n",
    "plt.tick_params(axis='both', which='both', bottom=False, top=False, left=False)\n",
    "plt.xlabel('')\n",
    "plt.title('Edema');"
   ]
  },
  {
   "cell_type": "code",
   "execution_count": null,
   "id": "d528d163",
   "metadata": {},
   "outputs": [],
   "source": [
    "#@title Distribution Polts\n",
    "plt.figure(figsize=(20.6,15))\n",
    "\n",
    "plt.subplot(3,3,1)\n",
    "sns.kdeplot(df['Cholesterol'], hue=df['Stage'], fill=True, palette='Purples')\n",
    "sns.despine(top=True, right=True, bottom=True, left=True)\n",
    "plt.tick_params(axis='both', which='both', bottom=False, top=False, left=False)\n",
    "plt.xlabel('')\n",
    "plt.title('Cholesterol Distribution in stages');\n",
    "\n",
    "plt.subplot(3,3,2)\n",
    "sns.kdeplot(df['Bilirubin'], hue=df['Stage'], fill=True, palette='Blues', common_norm=True)\n",
    "sns.despine(top=True, right=True, bottom=True, left=True)\n",
    "plt.tick_params(axis='both', which='both', bottom=False, top=False, left=False)\n",
    "plt.xlabel('')\n",
    "plt.title('Bilirubin');\n",
    "\n",
    "plt.subplot(3,3,3)\n",
    "sns.kdeplot(df['Tryglicerides'], hue=df['Stage'], fill=True, palette='Purples', common_norm=True)\n",
    "sns.despine(top=True, right=True, bottom=True, left=True)\n",
    "plt.tick_params(axis='both', which='both', bottom=False, top=False, left=False)\n",
    "plt.xlabel('')\n",
    "plt.title('Tryglicerides');\n",
    "\n",
    "plt.subplot(3,3,4)\n",
    "sns.kdeplot(df['Age'], hue=df['Stage'], fill=True, palette='Blues', common_norm=True)\n",
    "sns.despine(top=True, right=True, bottom=True, left=True)\n",
    "plt.tick_params(axis='both', which='both', bottom=False, top=False, left=False)\n",
    "plt.xlabel('')\n",
    "plt.title('Age Distribution in stages');\n",
    "\n",
    "plt.subplot(3,3,5)\n",
    "sns.kdeplot(df['Prothrombin'], hue=df['Stage'], fill=True, palette='Purples', common_norm=True)\n",
    "sns.despine(top=True, right=True, bottom=True, left=True)\n",
    "plt.tick_params(axis='both', which='both', bottom=False, top=False, left=False)\n",
    "plt.xlabel('')\n",
    "plt.title('Prothrombin');\n",
    "\n",
    "plt.subplot(3,3,6)\n",
    "sns.kdeplot(df['Copper'], hue=df['Stage'], fill=True, palette='Blues', common_norm=True)\n",
    "sns.despine(top=True, right=True, bottom=True, left=True)\n",
    "plt.tick_params(axis='both', which='both', bottom=False, top=False, left=False)\n",
    "plt.xlabel('')\n",
    "plt.title('Copper');\n",
    "\n",
    "plt.subplot(3,3,7)\n",
    "sns.kdeplot(df['Platelets'], hue=df['Stage'], fill=True, palette='Purples')\n",
    "sns.despine(top=True, right=True, bottom=True, left=True)\n",
    "plt.tick_params(axis='both', which='both', bottom=False, top=False, left=False)\n",
    "plt.xlabel('')\n",
    "plt.title('Platelets in stages');\n",
    "\n",
    "plt.subplot(3,3,8)\n",
    "sns.kdeplot(df['Albumin'], hue=df['Stage'], fill=True, palette='Blues', common_norm=True)\n",
    "sns.despine(top=True, right=True, bottom=True, left=True)\n",
    "plt.tick_params(axis='both', which='both', bottom=False, top=False, left=False)\n",
    "plt.xlabel('')\n",
    "plt.title('Albumin');\n",
    "\n",
    "plt.subplot(3,3,9)\n",
    "sns.kdeplot(df['SGOT'], hue=df['Stage'], fill=True, palette='Purples', common_norm=True)\n",
    "sns.despine(top=True, right=True, bottom=True, left=True)\n",
    "plt.tick_params(axis='both', which='both', bottom=False, top=False, left=False)\n",
    "plt.xlabel('')\n",
    "plt.title('SGOT');"
   ]
  },
  {
   "cell_type": "code",
   "execution_count": null,
   "id": "ab64896e",
   "metadata": {},
   "outputs": [],
   "source": [
    "#@title Regression Plots of Positive Correlated Features.\n",
    "plt.figure(figsize=(21,12))\n",
    "\n",
    "plt.subplot(3,1,1)\n",
    "sns.regplot(x=df['Age'], y=df['Stage'], scatter=False, logistic=True, color='royalblue')\n",
    "sns.despine(fig=None, ax=None, top=True, right=True, left=True, bottom=True, offset=None, trim=False);\n",
    "plt.tick_params(axis='both', which='both', bottom=False, top=False, left=False)\n",
    "plt.xlabel('');\n",
    "plt.ylabel('Cirrhosis Probability');\n",
    "plt.setp(plt.title('Cirrhosis Probability with increasing Age(in days)'), color='royalblue') ;\n",
    "\n",
    "plt.subplot(3,1,2)\n",
    "sns.regplot(x=df['Prothrombin'], y=df['Stage'], scatter=False, logistic=True, color='orchid');\n",
    "sns.despine(fig=None, ax=None, top=True, right=True, left=True, bottom=True, offset=None, trim=False);\n",
    "plt.tick_params(axis='both', which='both', bottom=False, top=False, left=False)\n",
    "plt.xlabel('');\n",
    "plt.ylabel('Cirrhosis Probability');\n",
    "plt.setp(plt.title('Cirrhosis Probability with increasing Prothrombin Content'), color='darkmagenta');\n",
    "\n",
    "plt.subplot(3,1,3)\n",
    "sns.regplot(x=df['Copper'], y=df['Stage'], scatter=False, logistic=True, color='royalblue')\n",
    "sns.despine(fig=None, ax=None, top=True, right=True, left=True, bottom=True, offset=None, trim=False);\n",
    "plt.tick_params(axis='both', which='both', bottom=False, top=False, left=False)\n",
    "plt.xlabel('');\n",
    "plt.ylabel('Cirrhosis Probability');\n",
    "plt.setp(plt.title('Cirrhosis Probability with increasing Copper Accumulation'), color='royalblue') ;"
   ]
  },
  {
   "cell_type": "code",
   "execution_count": null,
   "id": "038ba3ab",
   "metadata": {},
   "outputs": [],
   "source": [
    "#@title Regression Plots of negatively correlated Features.\n",
    "plt.figure(figsize=(21,12))\n",
    "\n",
    "plt.subplot(3,1,1)\n",
    "sns.regplot(x=df['Platelets'], y=df['Stage'], scatter=False, logistic=True, color='orchid')\n",
    "sns.despine(fig=None, ax=None, top=True, right=True, left=True, bottom=True, offset=None, trim=False);\n",
    "plt.tick_params(axis='both', which='both', bottom=False, top=False, left=False)\n",
    "plt.xlabel('');\n",
    "plt.ylabel('Cirrhosis Probability');\n",
    "plt.setp(plt.title('Cirrhosis Probability with Platelets'), color='darkmagenta');\n",
    "\n",
    "plt.subplot(3,1,2)\n",
    "sns.regplot(x=df['Albumin'], y=df['Stage'], scatter=False, logistic=True, color='royalblue');\n",
    "sns.despine(fig=None, ax=None, top=True, right=True, left=True, bottom=True, offset=None, trim=False);\n",
    "plt.tick_params(axis='both', which='both', bottom=False, top=False, left=False)\n",
    "plt.xlabel('');\n",
    "plt.ylabel('Cirrhosis Probability');\n",
    "plt.setp(plt.title('Cirrhosis Probability with Albumin Content'), color='royalblue');\n",
    "\n",
    "plt.subplot(3,1,3)\n",
    "sns.regplot(x=df['Cholesterol'], y=df['Stage'], scatter=False, logistic=True, color='orchid')\n",
    "sns.despine(fig=None, ax=None, top=True, right=True, left=True, bottom=True, offset=None, trim=False);\n",
    "plt.tick_params(axis='both', which='both', bottom=False, top=False, left=False)\n",
    "plt.xlabel('');\n",
    "plt.ylabel('Cirrhosis Probability');\n",
    "plt.setp(plt.title('Cirrhosis Probability Cholesterol'), color='darkmagenta') ;"
   ]
  },
  {
   "cell_type": "code",
   "execution_count": null,
   "id": "6ed147e4",
   "metadata": {},
   "outputs": [],
   "source": [
    "# replacing catagorical data with intigers.\n",
    "df['Sex'] = df['Sex'].replace({'M':0, 'F':1})                                # Male : 0 , Female :1\n",
    "df['Ascites'] = df['Ascites'].replace({'N':0, 'Y':1})                        # N : 0, Y : 1   \n",
    "df['Drug'] = df['Drug'].replace({'D-penicillamine':0, 'Placebo':1})          # D-penicillamine : 0, Placebo : 1   \n",
    "df['Hepatomegaly'] = df['Hepatomegaly'].replace({'N':0, 'Y':1})              # N : 0, Y : 1\n",
    "df['Spiders'] = df['Spiders'].replace({'N':0, 'Y':1})                        # N : 0, Y : 1\n",
    "df['Edema'] = df['Edema'].replace({'N':0, 'Y':1, 'S':-1})                    # N : 0, Y : 1, S : -1\n",
    "df['Status'] = df['Status'].replace({'C':0, 'CL':1, 'D':-1})                 # 'C':0, 'CL':1, 'D':-1"
   ]
  },
  {
   "cell_type": "code",
   "execution_count": null,
   "id": "0339f2ad",
   "metadata": {},
   "outputs": [],
   "source": [
    "# Setting up Features and Target\n",
    "X = df.drop(['Status', 'N_Days', 'Stage'], axis=1)\n",
    "y = df.pop('Stage')"
   ]
  },
  {
   "cell_type": "code",
   "execution_count": null,
   "id": "f76510c4",
   "metadata": {},
   "outputs": [],
   "source": [
    "from sklearn.metrics import classification_report\n",
    "log_model_predict = log_model.predict(test)\n",
    "log_model_predict_proba = log_model.predict_proba(test)\n",
    "\n",
    "print(classification_report(y.iloc[test_index], log_model_predict))"
   ]
  },
  {
   "cell_type": "code",
   "execution_count": null,
   "id": "00012d2b",
   "metadata": {},
   "outputs": [],
   "source": [
    "from sklearn.metrics import roc_auc_score\n",
    "from sklearn.metrics import roc_curve, auc\n",
    "\n",
    "fpr, tpr, threshold = roc_curve(y.iloc[test_index], log_model_predict_proba[:,1])\n",
    "roc_auc = auc(fpr, tpr)\n",
    "\n",
    "print('AUC : ', roc_auc_score(y.iloc[test_index], log_model_predict_proba[:,1]))"
   ]
  },
  {
   "cell_type": "code",
   "execution_count": null,
   "id": "680b5e47",
   "metadata": {},
   "outputs": [],
   "source": [
    "def trainer(X_train, y_train, X_test, y_test):\n",
    "    \n",
    "    models= [[' SVM ',SVC()],\n",
    "             [' Decision Tree ', DecisionTreeClassifier()],\n",
    "             [' Random Forest ', RandomForestClassifier()],\n",
    "             [' Logistic Regression ', LogisticRegression(max_iter=200)],\n",
    "             [' AdaBoost ', AdaBoostClassifier()],\n",
    "             [' KNN ', KNeighborsClassifier()]]\n",
    "\n",
    "    scores = []\n",
    "    \n",
    "    for model_name, model in models:\n",
    "\n",
    "        model = model\n",
    "        model.fit(X_train, y_train)\n",
    "        pred = model.predict(X_test)\n",
    "        cm_model = confusion_matrix(y_test, pred)\n",
    "        scores.append(accuracy_score(y_test, model.predict(X_test)))\n",
    "        \n",
    "\n",
    "        print(Back.YELLOW + Fore.BLACK + Style.BRIGHT + model_name)\n",
    "        print(Back.RESET)\n",
    "        print(cm_model)\n",
    "        print('\\n' + Fore.BLUE + 'Training Acc.  : ' + Fore.GREEN + str(round(accuracy_score(y_train, model.predict(X_train)) * 100, 2)) + '%' )\n",
    "        print(Fore.BLUE + 'Validation Acc.: ' + Fore.GREEN + str(round(accuracy_score(y_test, model.predict(X_test)) * 100, 2)) + '%' )\n",
    "        print(Fore.CYAN + classification_report(y_test, pred)) \n",
    "        \n",
    "        visualizer = ROCAUC(model)\n",
    "        visualizer.fit(X_train, y_train)\n",
    "        visualizer.score(X_test, y_test)\n",
    "        visualizer.show()   \n",
    "\n",
    "        print('\\n' + Fore.BLACK + Back.WHITE + '⁜⁜⁜⁜⁜⁜⁜⁜⁜⁜⁜⁜⁜⁜⁜⁜⁜⁜⁜⁜⁜⁜⁜⁜⁜⁜⁜⁜⁜⁜⁜⁜⁜⁜⁜⁜⁜\\n')\n",
    "    \n",
    "        \n",
    "    return scores"
   ]
  },
  {
   "cell_type": "code",
   "execution_count": null,
   "id": "ffd149b0",
   "metadata": {},
   "outputs": [],
   "source": [
    "import warnings\n",
    "import itertools\n",
    "\n",
    "import pandas as pd\n",
    "import numpy as np\n",
    "\n",
    "import matplotlib.pyplot as plt\n",
    "import seaborn as sns\n",
    "\n",
    "from sklearn.model_selection import train_test_split\n",
    "from sklearn.preprocessing import StandardScaler, LabelEncoder\n",
    "from sklearn.metrics import confusion_matrix, accuracy_score, classification_report, roc_curve, auc\n",
    "from sklearn.pipeline import Pipeline\n",
    "from sklearn.tree import DecisionTreeClassifier\n",
    "from sklearn.linear_model import LogisticRegression\n",
    "from sklearn.ensemble import RandomForestClassifier, AdaBoostClassifier\n",
    "from sklearn.neighbors import KNeighborsClassifier\n",
    "from sklearn.svm import SVC\n",
    "\n",
    "\n",
    "\n",
    "from xgboost import XGBClassifier\n",
    "from catboost import CatBoostClassifier\n",
    "\n",
    "\n",
    "\n",
    "from colorama import Fore, Back, Style\n",
    "#from yellowbrick.classifier import ROCAUC"
   ]
  },
  {
   "cell_type": "code",
   "execution_count": null,
   "id": "37dfba50",
   "metadata": {},
   "outputs": [],
   "source": [
    "conda install -c districtdatalabs yellowbrick"
   ]
  },
  {
   "cell_type": "code",
   "execution_count": null,
   "id": "066a42e2",
   "metadata": {},
   "outputs": [],
   "source": [
    "X_train, X_test, y_train, y_test = train_test_split(X, y, test_size = 0.2, random_state = 23)"
   ]
  },
  {
   "cell_type": "code",
   "execution_count": null,
   "id": "db2ec4a6",
   "metadata": {},
   "outputs": [],
   "source": [
    "def score_vis(score):\n",
    "    \n",
    "    names = ['Random Forest', 'Knn']\n",
    "\n",
    "    plt.rcParams['figure.figsize']=8,10\n",
    "    ax = sns.barplot(x=names, y=score, palette = \"plasma\", saturation =2.0)\n",
    "    plt.xlabel('Model', fontsize = 20 )\n",
    "    plt.ylabel('Accuracy(%)', fontsize = 20)\n",
    "    plt.title('Model Comparison - Test set(Random Forest vs KNN)', fontsize = 20)\n",
    "    plt.xticks(fontsize = 12, horizontalalignment = 'center', rotation = 8)\n",
    "    plt.yticks(fontsize = 12)\n",
    "    for i in ax.patches:\n",
    "        width, height = i.get_width(), i.get_height()\n",
    "        x, y = i.get_xy() \n",
    "        ax.annotate(f'{round(height,2)}%', (x + width/2, y + height*1.02), ha='center', fontsize = 'x-large')\n",
    "    plt.show()"
   ]
  },
  {
   "cell_type": "code",
   "execution_count": null,
   "id": "3c992ffc",
   "metadata": {},
   "outputs": [],
   "source": [
    "def trainer(X_train, y_train, X_test, y_test):\n",
    "    \n",
    "    models= [ [' KNN ', KNeighborsClassifier()], [' Random Forest ', RandomForestClassifier()]]\n",
    "    scores = []\n",
    "    \n",
    "    for model_name, model in models:\n",
    "\n",
    "        model = model\n",
    "        model.fit(X_train, y_train)\n",
    "        pred = model.predict(X_test)\n",
    "        cm_model = confusion_matrix(y_test, pred)\n",
    "        scores.append(accuracy_score(y_test, model.predict(X_test)))\n",
    "        print(Back.YELLOW + Fore.BLACK + Style.BRIGHT + model_name)\n",
    "        print(Back.RESET)\n",
    "        print(cm_model)\n",
    "        print('\\n' + Fore.BLUE + 'Training Acc.  : ' + Fore.GREEN + str(round(accuracy_score(y_train, model.predict(X_train)) * 100, 2)) + '%' )\n",
    "        print(Fore.BLUE + 'Validation Acc.: ' + Fore.GREEN + str(round(accuracy_score(y_test, model.predict(X_test)) * 100, 2)) + '%' )\n",
    "        print(Fore.CYAN + classification_report(y_test, pred))\n",
    "        print('\\n' + Fore.BLACK + Back.WHITE + '⁜⁜⁜⁜⁜⁜⁜⁜⁜⁜⁜⁜⁜⁜⁜⁜⁜⁜⁜⁜⁜⁜⁜⁜⁜⁜⁜⁜⁜⁜⁜⁜⁜⁜⁜⁜⁜\\n')\n",
    "    \n",
    "        \n",
    "    return scores"
   ]
  },
  {
   "cell_type": "code",
   "execution_count": null,
   "id": "b252bd54",
   "metadata": {},
   "outputs": [],
   "source": [
    "scores = trainer(X_train, y_train, X_test, y_test)"
   ]
  },
  {
   "cell_type": "code",
   "execution_count": null,
   "id": "0599d359",
   "metadata": {},
   "outputs": [],
   "source": [
    "score_vis(scores)"
   ]
  }
 ],
 "metadata": {
  "kernelspec": {
   "display_name": "Python 3 (ipykernel)",
   "language": "python",
   "name": "python3"
  },
  "language_info": {
   "codemirror_mode": {
    "name": "ipython",
    "version": 3
   },
   "file_extension": ".py",
   "mimetype": "text/x-python",
   "name": "python",
   "nbconvert_exporter": "python",
   "pygments_lexer": "ipython3",
   "version": "3.9.7"
  }
 },
 "nbformat": 4,
 "nbformat_minor": 5
}
